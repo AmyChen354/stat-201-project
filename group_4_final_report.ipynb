{
 "cells": [
  {
   "cell_type": "markdown",
   "id": "c5c8c1dc-296c-4603-ac7b-f33fbadfd2e5",
   "metadata": {
    "tags": []
   },
   "source": [
    "# STAT 201 Project Proposal\n",
    "\n",
    "## A Look into Salaries and Remote Work in the Data Science Field\n",
    "\n",
    "### Ryan Arnouk, Amy Chen, Reuben John, Youssef Saleh"
   ]
  },
  {
   "cell_type": "markdown",
   "id": "b6d38f24-1a87-4a22-ac16-b698e6c24d5d",
   "metadata": {
    "tags": []
   },
   "source": [
    "## Introduction"
   ]
  },
  {
   "cell_type": "markdown",
   "id": "797b4ad1-eaf4-421c-a031-07c8353895d3",
   "metadata": {},
   "source": [
    "### Background\n",
    "\n",
    "Monetary compensation is a one of the key factors in employee satisfaction (Card et al., 2012), and studies have shown that working remotely has also positively impacted satisfaction during the pandemic, due to increased autonomy (Galanti et al., 2021).\n",
    "\n",
    "Based on these two facts, this report aims to provide information regarding salaries and the likelihood of working remotely for each type of job, to people entering the data science job market. This would help them find jobs that match their own hopes and aspirations, as well as create a work environment that is productive in and out of the workplace by influencing work-life balance."
   ]
  },
  {
   "cell_type": "markdown",
   "id": "b66aab9e-854c-44d2-bbac-7e18f2cc9ce3",
   "metadata": {
    "tags": []
   },
   "source": [
    "### Guiding Question\n",
    "> Comparing full-time Data Analysts and Data Engineers, is there a *difference in means* of salaries and *difference in proportions* of remote work?"
   ]
  },
  {
   "cell_type": "markdown",
   "id": "8f87f499-669c-465d-8eb3-04a75b348cf8",
   "metadata": {},
   "source": [
    "### Dataset\n",
    "\n",
    "In this project, we use the dataset, \"Data Science Job Salaries\", by Ruchi Bhatia (2022) from [Kaggle](https://www.kaggle.com/datasets/ruchi798/data-science-job-salaries). It contains both qualitative and quantitative observations we can harness, like the year the salary was paid, experience level, employment type, title, salary, remote ratio, company size, and company location.\n",
    "\n",
    "From this dataset, our variables of interest are as follows:\n",
    "* ```salary_in_usd``` is our response variable, it uses a single currency (USD) to make comparisons easier regardless of country.\n",
    "* ```job_title``` is one of our explanatory variables; a ```chr``` describing each employee's profession.\n",
    "* ```remote_ratio``` is another explanatory variable; a ```fct``` describing each employee's ratio of remote work (0 = less than 20%, 50 = in between, 100 = greater than 80%)\n",
    "\n",
    "While ```experience_level``` does affect salary, this project is aimed at helping potential employees choose a job, and their own experience level is not something they can select for when job hunting.\n",
    "\n",
    "Together, these variables can help us achieve a more complete picture of the job market in the Data Science field."
   ]
  },
  {
   "cell_type": "markdown",
   "id": "7e6755c2-7766-4282-84c4-2611a837ae30",
   "metadata": {
    "tags": []
   },
   "source": [
    "## Preliminary Results"
   ]
  },
  {
   "cell_type": "markdown",
   "id": "dd9acc7c-3b05-4e8c-90a9-1aefbfa7d482",
   "metadata": {
    "tags": []
   },
   "source": [
    "### Reading the Data\n",
    "\n",
    "Kaggle does not allow datasets to be read directly from the website, so we downloaded the data to our repository and read it from there."
   ]
  },
  {
   "cell_type": "code",
   "execution_count": null,
   "id": "14958b6f-e871-401f-9841-81848a1530d6",
   "metadata": {},
   "outputs": [
    {
     "name": "stderr",
     "output_type": "stream",
     "text": [
      "── \u001b[1mAttaching packages\u001b[22m ─────────────────────────────────────── tidyverse 1.3.2 ──\n",
      "\u001b[32m✔\u001b[39m \u001b[34mggplot2\u001b[39m 3.3.6      \u001b[32m✔\u001b[39m \u001b[34mpurrr  \u001b[39m 0.3.4 \n",
      "\u001b[32m✔\u001b[39m \u001b[34mtibble \u001b[39m 3.1.8      \u001b[32m✔\u001b[39m \u001b[34mdplyr  \u001b[39m 1.0.10\n",
      "\u001b[32m✔\u001b[39m \u001b[34mtidyr  \u001b[39m 1.2.1      \u001b[32m✔\u001b[39m \u001b[34mstringr\u001b[39m 1.4.1 \n",
      "\u001b[32m✔\u001b[39m \u001b[34mreadr  \u001b[39m 2.1.2      \u001b[32m✔\u001b[39m \u001b[34mforcats\u001b[39m 0.5.2 \n",
      "── \u001b[1mConflicts\u001b[22m ────────────────────────────────────────── tidyverse_conflicts() ──\n",
      "\u001b[31m✖\u001b[39m \u001b[34mdplyr\u001b[39m::\u001b[32mfilter()\u001b[39m masks \u001b[34mstats\u001b[39m::filter()\n",
      "\u001b[31m✖\u001b[39m \u001b[34mdplyr\u001b[39m::\u001b[32mlag()\u001b[39m    masks \u001b[34mstats\u001b[39m::lag()\n",
      "\n",
      "Attaching package: ‘gridExtra’\n",
      "\n",
      "\n",
      "The following object is masked from ‘package:dplyr’:\n",
      "\n",
      "    combine\n",
      "\n",
      "\n",
      "\n",
      "Attaching package: ‘scales’\n",
      "\n",
      "\n",
      "The following object is masked from ‘package:purrr’:\n",
      "\n",
      "    discard\n",
      "\n",
      "\n",
      "The following object is masked from ‘package:readr’:\n",
      "\n",
      "    col_factor\n",
      "\n",
      "\n"
     ]
    }
   ],
   "source": [
    "library(tidyverse)\n",
    "library(infer)\n",
    "library(broom)\n",
    "library(gridExtra)\n",
    "library(scales)\n",
    "\n",
    "set.seed(1234)\n",
    "\n",
    "# reading the data\n",
    "salaries <- read.csv(\"https://raw.githubusercontent.com/ryanarnouk/stat-201-project/main/ds_salaries.csv\") %>%\n",
    "     select(!X) # index column\n",
    "\n",
    "# preview the data\n",
    "head(salaries)"
   ]
  },
  {
   "cell_type": "markdown",
   "id": "28fdefa3-8586-4c8a-8690-4ef7a12de87f",
   "metadata": {},
   "source": [
    "*table 1*"
   ]
  },
  {
   "cell_type": "markdown",
   "id": "be2306b7-e737-4efd-b77d-c1214b55eed5",
   "metadata": {
    "tags": []
   },
   "source": [
    "### Cleaning and Wrangling Data\n",
    "\n",
    "This dataset contains a lot of ```job_title``` categories, so let's see which ones we can work with."
   ]
  },
  {
   "cell_type": "code",
   "execution_count": null,
   "id": "a550e59e-0bc0-4843-b761-1445f518834f",
   "metadata": {},
   "outputs": [],
   "source": [
    "# calculating the number of employees in each job title category\n",
    "salaries %>% \n",
    "    filter(employment_type == \"FT\") %>% # filtering for full-time employees\n",
    "    group_by(job_title) %>%\n",
    "    summarise(n = n()) %>%\n",
    "    arrange(-n) %>% # so most frequent jobs come up first\n",
    "    head()"
   ]
  },
  {
   "cell_type": "markdown",
   "id": "a3c80f1f-78a8-4307-a0d6-a55c29b72612",
   "metadata": {},
   "source": [
    "*table 2*\n",
    "\n",
    "Here we can see that the first three categories each have more than 30 observations, meaning they are large enough, and are similar in size. Of those three, Data Scientist is a very broad job definition, so we will compare Data Engineers and Data Analysts.\n",
    "\n",
    "Let's grab only those categories and store them in a dataframe named ```top_jobs```."
   ]
  },
  {
   "cell_type": "code",
   "execution_count": null,
   "id": "58d30f6b-e91b-4c74-9ca7-3a6c5795694f",
   "metadata": {},
   "outputs": [],
   "source": [
    "# filtering for full-time employees from both categories\n",
    "data_jobs <- salaries %>%\n",
    "    filter(employment_type == \"FT\",\n",
    "           job_title %in% c(\"Data Engineer\", \"Data Analyst\")) %>%\n",
    "    mutate(remote_ratio = recode(remote_ratio, `0` = \"in_person\", `50` = \"hybrid\", `100` = \"remote\"),\n",
    "          is_remote = remote_ratio == \"remote\") %>%\n",
    "    select(job_title, is_remote, salary_in_usd) # more readable\n",
    "\n",
    "head(data_jobs)"
   ]
  },
  {
   "cell_type": "markdown",
   "id": "9ff7a033-fb86-4013-90ec-40ca2ef6b4cd",
   "metadata": {},
   "source": [
    "*table 3*"
   ]
  },
  {
   "cell_type": "markdown",
   "id": "86e0864a-4b98-4aee-a031-81e07d831a40",
   "metadata": {
    "tags": []
   },
   "source": [
    "### Plots"
   ]
  },
  {
   "cell_type": "markdown",
   "id": "f3a0cc34-dd46-4601-bd58-34798dc45fba",
   "metadata": {
    "tags": []
   },
   "source": [
    "#### Salary distributions\n",
    "\n",
    "First, let's look at the distributions of salaries in each of the categories by plotting them side-by-side.\n",
    "We will also add red vertical lines to show their mean salaries."
   ]
  },
  {
   "cell_type": "code",
   "execution_count": null,
   "id": "b4f8d2d6-f8af-4314-9653-771253324a1d",
   "metadata": {},
   "outputs": [],
   "source": [
    "options(repr.plot.width = 10, repr.plot.height = 4) # setting dimensions\n",
    "\n",
    "engr_dist <- data_jobs %>% # data engineer distribution\n",
    "    filter(job_title == \"Data Engineer\") %>%\n",
    "    ggplot(aes(x = salary_in_usd, y = ..density..)) +\n",
    "    geom_histogram(binwidth = 15000) +\n",
    "    geom_vline(xintercept = mean(filter(data_jobs, job_title == \"Data Engineer\")$salary_in_usd),\n",
    "              color = \"red\") +\n",
    "    labs(x = \"Salary (USD)\", title = \"Data Engineer\") +\n",
    "    scale_x_continuous(labels = comma) +  # so salaries aren't in scientific notation\n",
    "    coord_cartesian(xlim = c(0, 250000), ylim = c(0, 1e-05)) # same width x-axes\n",
    "                                                                # this cuts off some outlier data\n",
    "\n",
    "anst_dist <- data_jobs %>% # data analyst distribution\n",
    "    filter(job_title == \"Data Analyst\") %>%\n",
    "    ggplot(aes(x = salary_in_usd, y = ..density..)) +\n",
    "    geom_histogram(binwidth = 15000) +\n",
    "    geom_vline(xintercept = mean(filter(data_jobs, job_title == \"Data Analyst\")$salary_in_usd),\n",
    "              color = \"red\") +\n",
    "    labs(x = \"Salary (USD)\", title = \"Data Analyst\") +\n",
    "    scale_x_continuous(labels = comma) + # so salaries aren't in scientific notation\n",
    "    coord_cartesian(xlim = c(0, 250000), ylim = c(0, 1e-05)) # same width x-axes\n",
    "\n",
    "grid.arrange(engr_dist, anst_dist, ncol = 2, top = \"Salary Distributions\")"
   ]
  },
  {
   "cell_type": "markdown",
   "id": "76806678-e4b0-4b85-b6a0-3e73b45cef21",
   "metadata": {},
   "source": [
    "*figure 1, 2*"
   ]
  },
  {
   "cell_type": "markdown",
   "id": "8a3cbeea-8912-455d-8d66-ac914837bb62",
   "metadata": {
    "tags": []
   },
   "source": [
    "### Estimates\n",
    "\n",
    "Before testing our hypotheses, we need to have the appropriate point estimates."
   ]
  },
  {
   "cell_type": "code",
   "execution_count": null,
   "id": "68cf991e-da38-45bf-88af-2bc5c6e02c42",
   "metadata": {},
   "outputs": [],
   "source": [
    "data_estimates <- data_jobs %>%\n",
    "    group_by(job_title) %>%\n",
    "    summarize(n = n(), # number of observations\n",
    "              salary_mean = mean(salary_in_usd), # mean salary\n",
    "              salary_sd = sd(salary_in_usd), # standard deviation of salaries\n",
    "              remote_prop = mean(is_remote),  # proportion of remote work\n",
    "              remote_sd = sqrt(remote_prop * (1 - remote_prop))) # standard deviation of remote work\n",
    "\n",
    "head(data_estimates)"
   ]
  },
  {
   "cell_type": "markdown",
   "id": "7b6276b4-7436-4795-8c97-c034328ecc29",
   "metadata": {},
   "source": [
    "*table 4*\n",
    "\n",
    "**Note**: Although the median is a better estimate for salaries, this project relies on CLT, which dictates that we use the mean instead."
   ]
  },
  {
   "cell_type": "markdown",
   "id": "54d145a6-99eb-4f68-8aa2-0c9c766fff3f",
   "metadata": {
    "tags": []
   },
   "source": [
    "## Methods"
   ]
  },
  {
   "cell_type": "markdown",
   "id": "f4f92053-299c-460d-9117-cbb877c91d5d",
   "metadata": {
    "tags": []
   },
   "source": [
    "### Plan"
   ]
  },
  {
   "cell_type": "markdown",
   "id": "5f019469-a472-4376-8c44-419768451a40",
   "metadata": {
    "tags": []
   },
   "source": [
    "So far, this report has indicated that the mean salaries earned by Data Engineers and Data Analysts are different, as well as their proportion of employees working remotely. We used representative samples (with n > 30), and have narrowed it down to full-time employees, so that the response variables are truly random and not based on employment type.\n",
    "\n",
    "Unfortunately, our plots and point estimates are not enough to prove that. Because they use only one sample, they are more prone to error compared to a *sampling* distribution, so to remedy this, we will use resampling and asymptotic methods to model the population distributions.\n",
    "\n",
    "Since we do not have the populations' true means $\\mu$, proportions $p$, and standard deviations $\\sigma$, we will use the sample means $\\bar{x}$, proportions $\\hat{p}$, and standard deviations $s$. To account for the risk of error associated with this substitution, we will use $t$-distributions because of their thicker tails and wider spread, as compared to a standard distribution.\n",
    "\n",
    "We will also perform bootstrapping on both samples, generating a sampling distribution of salary standard deviations and proportion of remote work standard deviations for each sample. This is to compare the spread of salaries and remote work proportions, to ultimately give us a better idea of which job title is preferable.\n",
    "\n",
    "By letting Data Engineers be population 1, and Data Analysts be population 2, we aim to test the following hypotheses:\n",
    "\n",
    "for the mean salary:\n",
    "$$H_0 : \\mu_1 - \\mu_2 = 0$$\n",
    "$$H_1 : \\mu_1 - \\mu_2 \\neq 0$$\n",
    "\n",
    "for the proportion of remote work:\n",
    "$$H_0 : p_1 - p_2 = 0$$\n",
    "$$H_1 : p_1 - p_2 \\neq 0$$\n",
    "\n",
    "where $\\mu$ is the population's mean salary and $p$ is its proportion of employees working remotely. Our $t$-distributions will therefore be $t_{128}$ and $t_{95}$ respectively.\n",
    "\n",
    "We expect to reject both null hypotheses under a 5% significance level, with a 90% confidence level."
   ]
  },
  {
   "cell_type": "markdown",
   "id": "23b1a7cf-668f-4628-9d79-de76a3c61178",
   "metadata": {
    "tags": []
   },
   "source": [
    "## Results"
   ]
  },
  {
   "cell_type": "markdown",
   "id": "ecbfd2d5-e09f-49be-bb8c-1417cd8fa575",
   "metadata": {
    "tags": []
   },
   "source": [
    "### Comparing standard deviations"
   ]
  },
  {
   "cell_type": "markdown",
   "id": "0f66daa2-ea5b-4e67-bb2a-ab8fd12d81a4",
   "metadata": {},
   "source": [
    "To compare the distribution of salaries between the two jobs, we need to estimate the standard deviation.\n",
    "\n",
    "Since we do not have the actual population standard deviation $\\sigma$, we need to use bootstrapping to generate a sampling distribution of standard deviations.\n",
    "\n",
    "First, we will generate 10000 bootstrap replicates with replacement, then group by `replicate` and `job_title`, then calculate the standard deviations of both of `salary_in_usd` and `is_remote`."
   ]
  },
  {
   "cell_type": "code",
   "execution_count": null,
   "id": "cc644ba4-6504-41a4-9af0-77167bbeff3c",
   "metadata": {},
   "outputs": [],
   "source": [
    "set.seed(1234)\n",
    "\n",
    "bootstrap <- data_jobs %>%\n",
    "    rep_sample_n(size = nrow(data_jobs), reps = 10000, replace = TRUE) %>%\n",
    "    group_by(replicate, job_title) %>%\n",
    "    summarize(salary_sd = sd(salary_in_usd), \n",
    "              remote_sd = sqrt(mean(is_remote) * (1 - mean(is_remote))))\n",
    "\n",
    "head(bootstrap)"
   ]
  },
  {
   "cell_type": "markdown",
   "id": "1651cbdd-4f9f-4880-be88-28ae986b0fb5",
   "metadata": {},
   "source": [
    "*table 5*\n",
    "\n",
    "Second, we need to get the 90% confidence intervals for each statistic"
   ]
  },
  {
   "cell_type": "code",
   "execution_count": null,
   "id": "1be6bfa7-0dc1-4392-88f9-678513cdbf45",
   "metadata": {},
   "outputs": [],
   "source": [
    "salary_sd_ci <- bootstrap %>%\n",
    "    group_by(job_title) %>%\n",
    "    summarize(lower_ci = quantile(salary_sd, 0.05), \n",
    "              upper_ci = quantile(salary_sd, 0.95))\n",
    "\n",
    "remote_sd_ci <- bootstrap %>%\n",
    "    group_by(job_title) %>%\n",
    "    summarize(lower_ci = quantile(remote_sd, 0.05), \n",
    "              upper_ci = quantile(remote_sd, 0.95))\n",
    "\n",
    "salary_sd_ci\n",
    "remote_sd_ci"
   ]
  },
  {
   "cell_type": "markdown",
   "id": "b92c8ecb-d2eb-4935-ad6e-04544a3d9141",
   "metadata": {},
   "source": [
    "*tables 6, 7*\n",
    "\n",
    "From simply looking at the numbers, we can deduce the following:\n",
    "1. Data Engineer salaries are more varied (approx. 51000 - 64000, 90% conf.) than Data Analysts (approx. 35000 - 44000, 90% conf.)\n",
    "2. Data Engineer remote work proportions are around the same as those of Data Analysts.\n",
    "\n",
    "Just to be sure, however, let's visualize the two distribitions"
   ]
  },
  {
   "cell_type": "code",
   "execution_count": null,
   "id": "adecee14-714b-4d35-8054-11472452c3b9",
   "metadata": {},
   "outputs": [],
   "source": [
    "options(repr.plot.width = 10, repr.plot.height = 8) # setting dimensions\n",
    "\n",
    "# plotting the salary sd distribution\n",
    "bootstrap_salary_sd_dist <- bootstrap %>%\n",
    "    ggplot(aes(x = salary_sd, y = ..density.., fill = job_title)) +\n",
    "    geom_histogram(binwidth = 1000, position = \"identity\", alpha = 0.5) +\n",
    "    geom_vline(xintercept = c(salary_sd_ci$lower_ci[1], salary_sd_ci$upper_ci[1]), color = \"red\", linetype = \"dashed\") +\n",
    "    geom_vline(xintercept = c(salary_sd_ci$lower_ci[2], salary_sd_ci$upper_ci[2]), color = \"blue\", linetype = \"dashed\") +\n",
    "    labs(x = \"standard deviation\", fill = \"job title\", title = \"salary standard deviations\")\n",
    "\n",
    "# plotting the remote prop. sd distribution\n",
    "bootstrap_remote_sd_dist <- bootstrap %>%\n",
    "    ggplot(aes(x = remote_sd, y = ..density.., fill = job_title)) +\n",
    "    geom_histogram(bins = 100, position = \"identity\", alpha = 0.5) +\n",
    "    geom_vline(xintercept = c(remote_sd_ci$lower_ci[1], remote_sd_ci$upper_ci[1]), color = \"red\", linetype = \"dashed\") +\n",
    "    geom_vline(xintercept = c(remote_sd_ci$lower_ci[2], remote_sd_ci$upper_ci[2]), color = \"blue\", linetype = \"dashed\") +\n",
    "    labs(x = \"standard deviation\", fill = \"job title\", title = \"remote prop. standard deviations\")\n",
    "\n",
    "grid.arrange(bootstrap_salary_sd_dist, bootstrap_remote_sd_dist, top = \"bootstrap distributions, n = 10000\")"
   ]
  },
  {
   "cell_type": "markdown",
   "id": "80fc883d-1606-4050-814d-ead7c349bd82",
   "metadata": {},
   "source": [
    "*figure 3, 4*"
   ]
  },
  {
   "cell_type": "markdown",
   "id": "8004b72d-2125-46dd-8dc8-276fe5517066",
   "metadata": {},
   "source": [
    "Just as suspected, there is a clear and distinct difference between the salary standard deviations, with Data Engineers significantly higher. On the other hand, the remote proportion standard deviations are almost identical, with Data Engineers only slightly edging out Data Analysts."
   ]
  },
  {
   "cell_type": "markdown",
   "id": "5c8ab950-8a40-4642-a429-abee8091b6c8",
   "metadata": {
    "tags": []
   },
   "source": [
    "### Difference in means, proportions"
   ]
  },
  {
   "cell_type": "markdown",
   "id": "629e4862-3959-4575-b7cb-b6347b707b14",
   "metadata": {},
   "source": [
    "To test our hypotheses and get the differences in salary means and remote work proportions, we will use the `pt` and `qt` functions to calculate our $p$-values and confidence intervals.\n",
    "\n",
    "Then, just to be sure, we will be running $t$-tests for each of the null hypotheses, using the `t.test` function.\n",
    "\n",
    "First, to remind ourselves of the point estimates"
   ]
  },
  {
   "cell_type": "code",
   "execution_count": null,
   "id": "8ed00b21-298a-4a89-a541-83f4eb1fa0e8",
   "metadata": {},
   "outputs": [],
   "source": [
    "data_estimates"
   ]
  },
  {
   "cell_type": "markdown",
   "id": "751d0f21-8043-4f06-8b1a-b244994df3bc",
   "metadata": {},
   "source": [
    "*table 8*\n",
    "\n",
    "Now, calculating the $p$-value and confidence interval for the difference in salary means:"
   ]
  },
  {
   "cell_type": "code",
   "execution_count": null,
   "id": "f0efc947-f5cd-4ac0-9a29-ae26100ca988",
   "metadata": {},
   "outputs": [],
   "source": [
    "de = data_estimates\n",
    "\n",
    "mean_t_stat <- (de$salary_mean[2] - de$salary_mean[1])/sqrt(de$salary_sd[2]^2/de$n[2] + de$salary_sd[1]^2/de$n[1])\n",
    "\n",
    "mean_p_val <- 2 * pt(mean_t_stat, df = 224, lower.tail = FALSE) # since x1 > x2\n",
    "\n",
    "mean_ci <- tibble(mean_lower_ci = de$salary_mean[2] - de$salary_mean[1]\n",
    "                                  + qt(0.05, df = 224) * sqrt(de$salary_sd[2]^2/de$n[2] + de$salary_sd[1]^2/de$n[1]), \n",
    "                  mean_upper_ci = de$salary_mean[2] - de$salary_mean[1]\n",
    "                                  + qt(0.95, df = 224) * sqrt(de$salary_sd[2]^2/de$n[2] + de$salary_sd[1]^2/de$n[1]))\n",
    "\n",
    "tibble(mean_p_val, mean_ci)"
   ]
  },
  {
   "cell_type": "markdown",
   "id": "c1e46585-8c58-4e5b-9d20-726b9ebf96b5",
   "metadata": {},
   "source": [
    "*table 9*\n",
    "\n",
    "Based on the $p$-value of 0.17%, and given a significance level of 5%, we **have enough evidence to reject $H_0$**, and can be 90% confident that, on average, Data Engineers earn around \\\\$9800 to \\\\$31000 more than Data Analysts.\n",
    "\n",
    "And for the difference in remote work proportions:"
   ]
  },
  {
   "cell_type": "code",
   "execution_count": null,
   "id": "659a5ef4-7ab8-4c82-88f7-33d63a71520c",
   "metadata": {},
   "outputs": [],
   "source": [
    "de = data_estimates\n",
    "\n",
    "phat <- (de$remote_prop[1]*de$n[1] + de$remote_prop[2]*de$n[2]) / (de$n[1] + de$n[2])\n",
    "\n",
    "remote_t_stat <- (de$remote_prop[2] - de$remote_prop[1])/ sqrt(phat * (1 - phat) * (1/de$n[1] + 1/de$n[2]))\n",
    "\n",
    "remote_p_val <- 2 * pt(remote_t_stat, df = 224, lower.tail = TRUE) # since p2 > p1\n",
    "\n",
    "remote_ci <- tibble(prop_lower_ci = de$remote_prop[2] - de$remote_prop[1]\n",
    "                                  + qt(0.05, df = 224) * sqrt(phat * (1 - phat) * (1/de$n[1] + 1/de$n[2])), \n",
    "                    prop_upper_ci = de$remote_prop[2] - de$remote_prop[1]\n",
    "                                  + qt(0.95, df = 224) * sqrt(phat * (1 - phat) * (1/de$n[1] + 1/de$n[2])))\n",
    "\n",
    "tibble(remote_p_val, remote_ci)"
   ]
  },
  {
   "cell_type": "markdown",
   "id": "288046f0-c780-41cd-b40f-5fbba8007454",
   "metadata": {},
   "source": [
    "*table 10*\n",
    "\n",
    "Based on the $p$-value of 79%, and given a significance level of 5%, we **do not have enough evidence to reject $H_0$**, and cannot claim a difference in the proportions of employees working remotely.\n",
    "\n",
    "Just to be sure, we will also run a couple of `t.test` functions"
   ]
  },
  {
   "cell_type": "code",
   "execution_count": null,
   "id": "589a7863-490e-46ea-9bf3-85977788ac6c",
   "metadata": {},
   "outputs": [],
   "source": [
    "mean_t_test <- t.test(x = filter(data_jobs, job_title == \"Data Engineer\")$salary_in_usd,\n",
    "           y = filter(data_jobs, job_title == \"Data Analyst\")$salary_in_usd, \n",
    "           alternative = \"two.sided\", paired = FALSE, conf.level = 0.90) %>%\n",
    "    tidy() %>%\n",
    "    select(p.value, conf.low, conf.high)\n",
    "\n",
    "prop_t_test <- t.test(x = filter(data_jobs, job_title == \"Data Engineer\")$is_remote,\n",
    "           y = filter(data_jobs, job_title == \"Data Analyst\")$is_remote, \n",
    "           alternative = \"two.sided\", paired = FALSE, conf.level = 0.90) %>%\n",
    "    tidy() %>%\n",
    "    select(p.value, conf.low, conf.high)\n",
    "\n",
    "mean_t_test\n",
    "prop_t_test"
   ]
  },
  {
   "cell_type": "markdown",
   "id": "e8d34835-760d-4b40-b17a-1c29dbbeec58",
   "metadata": {},
   "source": [
    "*tables 11, 12*\n",
    "\n",
    "These results are almost equal to the previous ones, so we can be certain in our findings."
   ]
  },
  {
   "cell_type": "markdown",
   "id": "ab615b31-00e7-4d8b-8eff-d3cc394f0184",
   "metadata": {
    "tags": []
   },
   "source": [
    "## Discussion"
   ]
  },
  {
   "cell_type": "markdown",
   "id": "5dd07ddf-a45d-4ea6-9ae2-eb97ebb8c5b8",
   "metadata": {},
   "source": [
    "### Recap\n",
    "\n",
    "For this project, we considered a sample of employee information from the data science sector. Based on the job descriptions, we decided to compare Data Engineers and Data Analysts based on their salaries and proportion of employees working remotely. To investigate these parameters, we used resampling to investigate their spread (standard deviation) and t-distributions to test our hypotheses. "
   ]
  },
  {
   "cell_type": "markdown",
   "id": "3f199b34-b209-429d-bbb1-a9a65baf9451",
   "metadata": {},
   "source": [
    "### Findings\n",
    "\n",
    "For the standard deviations, we found that, Data Engineers had a significantly higher standard deviation of salaries than Data Analysts (with 90% confidence), as well as a slightly higher standard deviation of remote work proportions (with 90% confidence). The latter, we have decided, is negligible since the difference is very small.\n",
    "\n",
    "As for the difference in mean salaries, we calculated a difference of \\\\$9825.244 - \\\\$31118.71, with a confidence level of 90% and a p-value of 0.1703775%. Given our significance level of 5%, we had enough evidence to reject our first null hypothesis.\n",
    "\n",
    "Finally, for the difference in remote work proportions, we calculated a p-value of 79.18849%, and thus were unable to reject the null hypothesis. This also meant that our 90% confidence interval was not useful, but it centered approximately around 0.\n"
   ]
  },
  {
   "cell_type": "markdown",
   "id": "a396af3c-3a79-4c32-ba6b-4e6cc32f45df",
   "metadata": {},
   "source": [
    "### Expectations vs. Findings\n",
    "\n",
    "When we first set out to do this investigation, we expected to reject both of our null hypotheses, and to find that both jobs had roughly equal standard deviations of salary and remote work proportions. These expectations were only partly met.\n",
    "\n",
    "Our expectations that the two groups earned different salaries, and that the variations in remote probability were the same came true, but the rest were all false. Instead, we ended up failing to reject the second null hypothesis, and found that Data Engineer salaries had significantly higher standard deviations compared to Data Analysts."
   ]
  },
  {
   "cell_type": "markdown",
   "id": "80bbfa53-8c07-42d8-9a7c-df9f02fdfea8",
   "metadata": {},
   "source": [
    "### Interpretation\n",
    "\n",
    "From our findings, we can infer that, on average, Data Engineers earned more than Data Analysts, but also that their salaries were a lot more varied in comparison. Their probability of working remotely, however, was roughly equal, with Data Engineers slightly more likely to work from home more than 80% of the time.\n"
   ]
  },
  {
   "cell_type": "markdown",
   "id": "98534014-2a04-4252-b156-6b3738897606",
   "metadata": {
    "jp-MarkdownHeadingCollapsed": true,
    "tags": []
   },
   "source": [
    "### Limitations\n",
    "\n",
    "A major limitation to this project is the difference in sample size when comparing Data Engineers and Data Analysts. This has caused the confidence intervals calculated for the latter to be noticeably wider than their counterparts. This also affects the confidence intervals calculated for the differences in means and proportions. \n",
    "\n",
    "This could be fixed in the future by focusing more on these specific job titles during data collection, and having larger, more similarly sized samples for each."
   ]
  },
  {
   "cell_type": "markdown",
   "id": "63ef6d28-0006-4e2f-a696-f39720c2fee1",
   "metadata": {},
   "source": [
    "## Implications"
   ]
  },
  {
   "cell_type": "markdown",
   "id": "a7cad898-8301-4574-8c37-dfb62414ab1b",
   "metadata": {
    "tags": []
   },
   "source": [
    "### Impact\n",
    "\n",
    "These findings could impact how new data science graduates choose what jobs to apply for, as well as what specific career paths undergraduates may wish to focus on. In the data science field, Data Analysts and Data Engineers are very popular, but very different, career choices. \n",
    "\n",
    "Moreover, analysis of the industry can be conducted based on this project. This can help us infer what job titles companies view as more valuable, as well as make predictions of how they might react to financial hardship or otherwise changes in a company’s operations (i.e. who gets laid off during a merger, and who is likely to be retained). \n",
    "\n",
    "Creating open dialogues through statistical inference is important for workplace transparency, and we hope that our work can be used as a metric that can facilitate such discussions to create a more holistic view of the current job market in the data science and statistics field."
   ]
  },
  {
   "cell_type": "markdown",
   "id": "4764d37c-1917-4b9d-a770-4dfe897094a7",
   "metadata": {
    "tags": []
   },
   "source": [
    "### Future Questions\n",
    "\n",
    "This opens the door for further questions about the difference in experience level, company location and company size when comparing different job titles within the Data Science field. Also, with more data, these questions can be answered for the rest of the jobs that we could not examine due to their sample sizes.\n",
    "\n",
    "We hope further research can be conducted comparing different variables further along with assessment on how salary impacts wellbeing and job satisfaction for both parties (employer and employee) and in multiple industries.\n",
    "\n",
    "Furthermore, we hope that research can be conducted with additional demographic data. For example, a potential question that can be answered with statistical inference is if there is a difference in mean salaries based on race, gender, or other socioeconomic factors. \n",
    "The range of questions can be further broadened and answered within different disciplines, as well, to help employees and employers make smarter decisions and create a better workplace environment for all."
   ]
  },
  {
   "cell_type": "markdown",
   "id": "83ea28f4-5639-41fc-891c-12961e11182a",
   "metadata": {
    "tags": []
   },
   "source": [
    "## References"
   ]
  },
  {
   "cell_type": "markdown",
   "id": "d19fb943-b77d-44ca-b526-f735e99fe71a",
   "metadata": {},
   "source": [
    "Bhatia, R. (2022). *Data science job salaries*. \\[Dataset\\] https://www.kaggle.com/datasets/ruchi798/data-science-job-salaries\n",
    "\n",
    "Card, D., Mas, A., Moretti, E., & Saez, E. (2012). Inequality at work: The effect of peer salaries on job satisfaction. *American Economic Review*, 102(6), 2981–3003. https://doi.org/10.1257/aer.102.6.2981\n",
    "\n",
    "Galanti, T., Guidetti, G., Mazzei, E., Zappalà, S., & Toscano, F. (2021). Work from home during the COVID-19 outbreak: the impact on employees' remote work productivity, engagement, and stress. *Journal of Occupational and Environmental Medicine*, 63(7), e426–e432. https://doi.org/10.1097/JOM.0000000000002236"
   ]
  }
 ],
 "metadata": {
  "kernelspec": {
   "display_name": "R",
   "language": "R",
   "name": "ir"
  },
  "language_info": {
   "codemirror_mode": "r",
   "file_extension": ".r",
   "mimetype": "text/x-r-source",
   "name": "R",
   "pygments_lexer": "r",
   "version": "4.1.3"
  }
 },
 "nbformat": 4,
 "nbformat_minor": 5
}
