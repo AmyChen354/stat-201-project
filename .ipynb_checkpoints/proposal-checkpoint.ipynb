{
 "cells": [
  {
   "cell_type": "markdown",
   "id": "511ec11e-014b-4080-b322-785303dfe83f",
   "metadata": {},
   "source": [
    "# STAT 201 Project Proposal - Question will added here*"
   ]
  },
  {
   "cell_type": "markdown",
   "id": "e5f869f0-886c-46a7-9701-9e1edb0ea283",
   "metadata": {},
   "source": [
    "## Introduction"
   ]
  },
  {
   "cell_type": "markdown",
   "id": "81988f10-8f83-4feb-b7f6-77bee79e4b75",
   "metadata": {},
   "source": [
    "### Background"
   ]
  },
  {
   "cell_type": "markdown",
   "id": "af716b5a-471a-4bf8-8e21-60425e883014",
   "metadata": {},
   "source": [
    "### Guiding Question"
   ]
  },
  {
   "cell_type": "markdown",
   "id": "01076f6d-b2b5-4a45-b0be-6794ac69f014",
   "metadata": {},
   "source": [
    "### Dataset"
   ]
  },
  {
   "cell_type": "markdown",
   "id": "2c6fae3c-e91d-4382-a7cd-1fe3eb76ccb7",
   "metadata": {},
   "source": [
    "## Preliminary Results"
   ]
  },
  {
   "cell_type": "markdown",
   "id": "8f893290-0fa3-4e2b-9954-09e422232e57",
   "metadata": {
    "tags": []
   },
   "source": [
    "### Reading the Data"
   ]
  },
  {
   "cell_type": "markdown",
   "id": "4742174a-cf42-4c5e-9002-f9d7405509f9",
   "metadata": {},
   "source": [
    "### Cleaning and Wrangling Data"
   ]
  },
  {
   "cell_type": "markdown",
   "id": "092e4c09-1c19-4628-b22e-30f6dfc3f6d9",
   "metadata": {},
   "source": [
    "### Plots"
   ]
  },
  {
   "cell_type": "markdown",
   "id": "83d9bed9-fa9b-4e5c-89f1-ec93197162bc",
   "metadata": {},
   "source": [
    "### Estimates"
   ]
  },
  {
   "cell_type": "markdown",
   "id": "0ab5a2cc-4ad3-44ce-b9de-f91bd2262ab0",
   "metadata": {},
   "source": [
    "## Methods: Plan"
   ]
  },
  {
   "cell_type": "markdown",
   "id": "ebfda908-7298-4be0-87f9-8c37014cf728",
   "metadata": {},
   "source": [
    "### Expected Outcomes and Significance"
   ]
  },
  {
   "cell_type": "markdown",
   "id": "3a88c59d-cf58-4a3b-b9ef-4da06b85df5b",
   "metadata": {},
   "source": [
    "### Future"
   ]
  },
  {
   "cell_type": "markdown",
   "id": "cc2e04a8-8ad3-45d9-b610-49499dfaea01",
   "metadata": {},
   "source": [
    "## References"
   ]
  },
  {
   "cell_type": "code",
   "execution_count": null,
   "id": "ca8391be-5a8b-431d-bd85-4fd2e23b3987",
   "metadata": {},
   "outputs": [],
   "source": []
  }
 ],
 "metadata": {
  "kernelspec": {
   "display_name": "R",
   "language": "R",
   "name": "ir"
  },
  "language_info": {
   "codemirror_mode": "r",
   "file_extension": ".r",
   "mimetype": "text/x-r-source",
   "name": "R",
   "pygments_lexer": "r",
   "version": "4.1.3"
  }
 },
 "nbformat": 4,
 "nbformat_minor": 5
}
