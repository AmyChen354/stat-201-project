{
 "cells": [
  {
   "cell_type": "markdown",
   "id": "511ec11e-014b-4080-b322-785303dfe83f",
   "metadata": {},
   "source": [
    "# STAT 201 Project Proposal - Question will be added here*"
   ]
  },
  {
   "cell_type": "markdown",
   "id": "e5f869f0-886c-46a7-9701-9e1edb0ea283",
   "metadata": {},
   "source": [
    "## Introduction"
   ]
  },
  {
   "cell_type": "markdown",
   "id": "81988f10-8f83-4feb-b7f6-77bee79e4b75",
   "metadata": {},
   "source": [
    "### Background"
   ]
  },
  {
   "cell_type": "markdown",
   "id": "af716b5a-471a-4bf8-8e21-60425e883014",
   "metadata": {
    "tags": []
   },
   "source": [
    "### Guiding Question"
   ]
  },
  {
   "cell_type": "markdown",
   "id": "01076f6d-b2b5-4a45-b0be-6794ac69f014",
   "metadata": {},
   "source": [
    "### Dataset"
   ]
  },
  {
   "cell_type": "markdown",
   "id": "2c6fae3c-e91d-4382-a7cd-1fe3eb76ccb7",
   "metadata": {},
   "source": [
    "## Preliminary Results"
   ]
  },
  {
   "cell_type": "markdown",
   "id": "8f893290-0fa3-4e2b-9954-09e422232e57",
   "metadata": {
    "tags": []
   },
   "source": [
    "### Reading the Data"
   ]
  },
  {
   "cell_type": "code",
   "execution_count": null,
   "id": "602da0dd-ec72-4fb4-9431-b3e7bf549a0a",
   "metadata": {},
   "outputs": [],
   "source": [
    "library(tidyverse)\n",
    "library(broom)\n",
    "library(repr)\n",
    "library(digest)\n",
    "library(infer)\n",
    "library(gridExtra)\n",
    "\n",
    "student_data <- read.csv(\"https://archive.ics.uci.edu/ml/machine-learning-databases/communities/communities.data\")\n",
    "head(student_data)\n",
    "colnames(student_data)"
   ]
  },
  {
   "cell_type": "markdown",
   "id": "4742174a-cf42-4c5e-9002-f9d7405509f9",
   "metadata": {},
   "source": [
    "### Cleaning and Wrangling Data"
   ]
  },
  {
   "cell_type": "code",
   "execution_count": 73,
   "id": "66eb0474-80b6-4204-80f3-bf26ebacbf5a",
   "metadata": {},
   "outputs": [
    {
     "data": {
      "text/html": [
       "<table class=\"dataframe\">\n",
       "<caption>A tibble: 6 × 6</caption>\n",
       "<thead>\n",
       "\t<tr><th scope=col>school</th><th scope=col>parents_tog</th><th scope=col>mother_job</th><th scope=col>father_job</th><th scope=col>studytime</th><th scope=col>final_grade</th></tr>\n",
       "\t<tr><th scope=col>&lt;fct&gt;</th><th scope=col>&lt;lgl&gt;</th><th scope=col>&lt;fct&gt;</th><th scope=col>&lt;fct&gt;</th><th scope=col>&lt;fct&gt;</th><th scope=col>&lt;dbl&gt;</th></tr>\n",
       "</thead>\n",
       "<tbody>\n",
       "\t<tr><td>GP</td><td>FALSE</td><td>at_home </td><td>teacher </td><td>2</td><td> 6</td></tr>\n",
       "\t<tr><td>GP</td><td> TRUE</td><td>at_home </td><td>other   </td><td>2</td><td> 6</td></tr>\n",
       "\t<tr><td>GP</td><td> TRUE</td><td>at_home </td><td>other   </td><td>2</td><td>10</td></tr>\n",
       "\t<tr><td>GP</td><td> TRUE</td><td>health  </td><td>services</td><td>3</td><td>15</td></tr>\n",
       "\t<tr><td>GP</td><td> TRUE</td><td>other   </td><td>other   </td><td>2</td><td>10</td></tr>\n",
       "\t<tr><td>GP</td><td> TRUE</td><td>services</td><td>other   </td><td>2</td><td>15</td></tr>\n",
       "</tbody>\n",
       "</table>\n"
      ],
      "text/latex": [
       "A tibble: 6 × 6\n",
       "\\begin{tabular}{llllll}\n",
       " school & parents\\_tog & mother\\_job & father\\_job & studytime & final\\_grade\\\\\n",
       " <fct> & <lgl> & <fct> & <fct> & <fct> & <dbl>\\\\\n",
       "\\hline\n",
       "\t GP & FALSE & at\\_home  & teacher  & 2 &  6\\\\\n",
       "\t GP &  TRUE & at\\_home  & other    & 2 &  6\\\\\n",
       "\t GP &  TRUE & at\\_home  & other    & 2 & 10\\\\\n",
       "\t GP &  TRUE & health   & services & 3 & 15\\\\\n",
       "\t GP &  TRUE & other    & other    & 2 & 10\\\\\n",
       "\t GP &  TRUE & services & other    & 2 & 15\\\\\n",
       "\\end{tabular}\n"
      ],
      "text/markdown": [
       "\n",
       "A tibble: 6 × 6\n",
       "\n",
       "| school &lt;fct&gt; | parents_tog &lt;lgl&gt; | mother_job &lt;fct&gt; | father_job &lt;fct&gt; | studytime &lt;fct&gt; | final_grade &lt;dbl&gt; |\n",
       "|---|---|---|---|---|---|\n",
       "| GP | FALSE | at_home  | teacher  | 2 |  6 |\n",
       "| GP |  TRUE | at_home  | other    | 2 |  6 |\n",
       "| GP |  TRUE | at_home  | other    | 2 | 10 |\n",
       "| GP |  TRUE | health   | services | 3 | 15 |\n",
       "| GP |  TRUE | other    | other    | 2 | 10 |\n",
       "| GP |  TRUE | services | other    | 2 | 15 |\n",
       "\n"
      ],
      "text/plain": [
       "  school parents_tog mother_job father_job studytime final_grade\n",
       "1 GP     FALSE       at_home    teacher    2          6         \n",
       "2 GP      TRUE       at_home    other      2          6         \n",
       "3 GP      TRUE       at_home    other      2         10         \n",
       "4 GP      TRUE       health     services   3         15         \n",
       "5 GP      TRUE       other      other      2         10         \n",
       "6 GP      TRUE       services   other      2         15         "
      ]
     },
     "metadata": {},
     "output_type": "display_data"
    }
   ],
   "source": [
    "student <- student_data %>%\n",
    "    mutate(school = as.factor(school),\n",
    "           parents_tog = Pstatus == \"T\",\n",
    "           mother_job = as.factor(Mjob), \n",
    "           father_job = as.factor(Fjob), \n",
    "           studytime = as.factor(as.integer(studytime)), \n",
    "           final_grade = G3) %>%\n",
    "    select(school, parents_tog, mother_job, father_job, studytime, final_grade)\n",
    "\n",
    "head(student)"
   ]
  },
  {
   "cell_type": "markdown",
   "id": "092e4c09-1c19-4628-b22e-30f6dfc3f6d9",
   "metadata": {},
   "source": [
    "### Plots"
   ]
  },
  {
   "cell_type": "markdown",
   "id": "83d9bed9-fa9b-4e5c-89f1-ec93197162bc",
   "metadata": {},
   "source": [
    "### Estimates"
   ]
  },
  {
   "cell_type": "markdown",
   "id": "0ab5a2cc-4ad3-44ce-b9de-f91bd2262ab0",
   "metadata": {},
   "source": [
    "## Methods: Plan"
   ]
  },
  {
   "cell_type": "markdown",
   "id": "ebfda908-7298-4be0-87f9-8c37014cf728",
   "metadata": {},
   "source": [
    "### Expected Outcomes and Significance"
   ]
  },
  {
   "cell_type": "markdown",
   "id": "3a88c59d-cf58-4a3b-b9ef-4da06b85df5b",
   "metadata": {},
   "source": [
    "### Future"
   ]
  },
  {
   "cell_type": "markdown",
   "id": "cc2e04a8-8ad3-45d9-b610-49499dfaea01",
   "metadata": {},
   "source": [
    "## References"
   ]
  },
  {
   "cell_type": "code",
   "execution_count": null,
   "id": "ca8391be-5a8b-431d-bd85-4fd2e23b3987",
   "metadata": {},
   "outputs": [],
   "source": []
  }
 ],
 "metadata": {
  "kernelspec": {
   "display_name": "R",
   "language": "R",
   "name": "ir"
  },
  "language_info": {
   "codemirror_mode": "r",
   "file_extension": ".r",
   "mimetype": "text/x-r-source",
   "name": "R",
   "pygments_lexer": "r",
   "version": "4.1.3"
  }
 },
 "nbformat": 4,
 "nbformat_minor": 5
}
