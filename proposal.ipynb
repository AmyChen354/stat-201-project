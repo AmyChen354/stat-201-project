{
 "cells": [
  {
   "cell_type": "markdown",
   "id": "511ec11e-014b-4080-b322-785303dfe83f",
   "metadata": {},
   "source": [
    "# STAT 201 Project Proposal - Question will be added here*"
   ]
  },
  {
   "cell_type": "markdown",
   "id": "e5f869f0-886c-46a7-9701-9e1edb0ea283",
   "metadata": {},
   "source": [
    "## Introduction"
   ]
  },
  {
   "cell_type": "markdown",
   "id": "81988f10-8f83-4feb-b7f6-77bee79e4b75",
   "metadata": {},
   "source": [
    "### Background\n",
    "Monetary compensation is a one of the key factors in employees’ response to job satisfaction questions along with education matching the role of an employee (Card et al., 2012; Lee & Sabharwal, 2014)\n",
    "\n",
    "This serves as the motivation for this project with the goal being to provide open information about compensation and factors that can contribute to the amount of compensation those in the data science field can expect to receive. While this can be used for monetary gain, the root problem we hope to contribute to using this statistical analysis is to increase workplace satisfaction. At its heart, this project is meant for both employees and employers who can benefit from greater job satisfaction; this can create a work environment that is productive for employees (and employers to a certain extent) in and out of the workplace by influencing work-life balance. \n"
   ]
  },
  {
   "cell_type": "markdown",
   "id": "af716b5a-471a-4bf8-8e21-60425e883014",
   "metadata": {
    "tags": []
   },
   "source": [
    "### Guiding Question\n",
    "How does experience level, job title, and employment type contribute to a person’s salary in USD and in what empirical level does that put this salary relative to the median salary in the company’s country? \n",
    "> I.e. what traits (experience level, job title, employment type) put salaries in the top 5% of salaries in the country (or above the median or mean salary). \n"
   ]
  },
  {
   "cell_type": "markdown",
   "id": "01076f6d-b2b5-4a45-b0be-6794ac69f014",
   "metadata": {},
   "source": [
    "### Dataset\n",
    "\n",
    "We gather the data used in this project from (https://www.kaggle.com/datasets/ruchi798/data-science-job-salaries). The data was aggregated by ai-jobs.net and contains both qualitative and quantitative observations we can harness: for example, the year the salary was paid, experience level, employment type, title, salary, remote ratio, company size, and company location. Many of these variables are interesting to compare and contrast in the future to get a more complete picture. "
   ]
  },
  {
   "cell_type": "markdown",
   "id": "2c6fae3c-e91d-4382-a7cd-1fe3eb76ccb7",
   "metadata": {},
   "source": [
    "## Preliminary Results"
   ]
  },
  {
   "cell_type": "markdown",
   "id": "8f893290-0fa3-4e2b-9954-09e422232e57",
   "metadata": {
    "tags": []
   },
   "source": [
    "### Reading the Data"
   ]
  },
  {
   "cell_type": "markdown",
   "id": "92f7c22f-bb6b-4433-9943-7e7c55ad27d7",
   "metadata": {},
   "source": [
    "Kaggle does not allow datasets to be referenced directly from the website. As a result, we downloaded the data (viewable in the `./` directory) and reference it here."
   ]
  },
  {
   "cell_type": "code",
   "execution_count": 2,
   "id": "602da0dd-ec72-4fb4-9431-b3e7bf549a0a",
   "metadata": {},
   "outputs": [
    {
     "data": {
      "text/html": [
       "<table class=\"dataframe\">\n",
       "<caption>A data.frame: 6 × 11</caption>\n",
       "<thead>\n",
       "\t<tr><th></th><th scope=col>work_year</th><th scope=col>experience_level</th><th scope=col>employment_type</th><th scope=col>job_title</th><th scope=col>salary</th><th scope=col>salary_currency</th><th scope=col>salary_in_usd</th><th scope=col>employee_residence</th><th scope=col>remote_ratio</th><th scope=col>company_location</th><th scope=col>company_size</th></tr>\n",
       "\t<tr><th></th><th scope=col>&lt;int&gt;</th><th scope=col>&lt;chr&gt;</th><th scope=col>&lt;chr&gt;</th><th scope=col>&lt;chr&gt;</th><th scope=col>&lt;int&gt;</th><th scope=col>&lt;chr&gt;</th><th scope=col>&lt;int&gt;</th><th scope=col>&lt;chr&gt;</th><th scope=col>&lt;int&gt;</th><th scope=col>&lt;chr&gt;</th><th scope=col>&lt;chr&gt;</th></tr>\n",
       "</thead>\n",
       "<tbody>\n",
       "\t<tr><th scope=row>1</th><td>2020</td><td>MI</td><td>FT</td><td>Data Scientist            </td><td> 70000</td><td>EUR</td><td> 79833</td><td>DE</td><td>  0</td><td>DE</td><td>L</td></tr>\n",
       "\t<tr><th scope=row>2</th><td>2020</td><td>SE</td><td>FT</td><td>Machine Learning Scientist</td><td>260000</td><td>USD</td><td>260000</td><td>JP</td><td>  0</td><td>JP</td><td>S</td></tr>\n",
       "\t<tr><th scope=row>3</th><td>2020</td><td>SE</td><td>FT</td><td>Big Data Engineer         </td><td> 85000</td><td>GBP</td><td>109024</td><td>GB</td><td> 50</td><td>GB</td><td>M</td></tr>\n",
       "\t<tr><th scope=row>4</th><td>2020</td><td>MI</td><td>FT</td><td>Product Data Analyst      </td><td> 20000</td><td>USD</td><td> 20000</td><td>HN</td><td>  0</td><td>HN</td><td>S</td></tr>\n",
       "\t<tr><th scope=row>5</th><td>2020</td><td>SE</td><td>FT</td><td>Machine Learning Engineer </td><td>150000</td><td>USD</td><td>150000</td><td>US</td><td> 50</td><td>US</td><td>L</td></tr>\n",
       "\t<tr><th scope=row>6</th><td>2020</td><td>EN</td><td>FT</td><td>Data Analyst              </td><td> 72000</td><td>USD</td><td> 72000</td><td>US</td><td>100</td><td>US</td><td>L</td></tr>\n",
       "</tbody>\n",
       "</table>\n"
      ],
      "text/latex": [
       "A data.frame: 6 × 11\n",
       "\\begin{tabular}{r|lllllllllll}\n",
       "  & work\\_year & experience\\_level & employment\\_type & job\\_title & salary & salary\\_currency & salary\\_in\\_usd & employee\\_residence & remote\\_ratio & company\\_location & company\\_size\\\\\n",
       "  & <int> & <chr> & <chr> & <chr> & <int> & <chr> & <int> & <chr> & <int> & <chr> & <chr>\\\\\n",
       "\\hline\n",
       "\t1 & 2020 & MI & FT & Data Scientist             &  70000 & EUR &  79833 & DE &   0 & DE & L\\\\\n",
       "\t2 & 2020 & SE & FT & Machine Learning Scientist & 260000 & USD & 260000 & JP &   0 & JP & S\\\\\n",
       "\t3 & 2020 & SE & FT & Big Data Engineer          &  85000 & GBP & 109024 & GB &  50 & GB & M\\\\\n",
       "\t4 & 2020 & MI & FT & Product Data Analyst       &  20000 & USD &  20000 & HN &   0 & HN & S\\\\\n",
       "\t5 & 2020 & SE & FT & Machine Learning Engineer  & 150000 & USD & 150000 & US &  50 & US & L\\\\\n",
       "\t6 & 2020 & EN & FT & Data Analyst               &  72000 & USD &  72000 & US & 100 & US & L\\\\\n",
       "\\end{tabular}\n"
      ],
      "text/markdown": [
       "\n",
       "A data.frame: 6 × 11\n",
       "\n",
       "| <!--/--> | work_year &lt;int&gt; | experience_level &lt;chr&gt; | employment_type &lt;chr&gt; | job_title &lt;chr&gt; | salary &lt;int&gt; | salary_currency &lt;chr&gt; | salary_in_usd &lt;int&gt; | employee_residence &lt;chr&gt; | remote_ratio &lt;int&gt; | company_location &lt;chr&gt; | company_size &lt;chr&gt; |\n",
       "|---|---|---|---|---|---|---|---|---|---|---|---|\n",
       "| 1 | 2020 | MI | FT | Data Scientist             |  70000 | EUR |  79833 | DE |   0 | DE | L |\n",
       "| 2 | 2020 | SE | FT | Machine Learning Scientist | 260000 | USD | 260000 | JP |   0 | JP | S |\n",
       "| 3 | 2020 | SE | FT | Big Data Engineer          |  85000 | GBP | 109024 | GB |  50 | GB | M |\n",
       "| 4 | 2020 | MI | FT | Product Data Analyst       |  20000 | USD |  20000 | HN |   0 | HN | S |\n",
       "| 5 | 2020 | SE | FT | Machine Learning Engineer  | 150000 | USD | 150000 | US |  50 | US | L |\n",
       "| 6 | 2020 | EN | FT | Data Analyst               |  72000 | USD |  72000 | US | 100 | US | L |\n",
       "\n"
      ],
      "text/plain": [
       "  work_year experience_level employment_type job_title                  salary\n",
       "1 2020      MI               FT              Data Scientist              70000\n",
       "2 2020      SE               FT              Machine Learning Scientist 260000\n",
       "3 2020      SE               FT              Big Data Engineer           85000\n",
       "4 2020      MI               FT              Product Data Analyst        20000\n",
       "5 2020      SE               FT              Machine Learning Engineer  150000\n",
       "6 2020      EN               FT              Data Analyst                72000\n",
       "  salary_currency salary_in_usd employee_residence remote_ratio\n",
       "1 EUR              79833        DE                   0         \n",
       "2 USD             260000        JP                   0         \n",
       "3 GBP             109024        GB                  50         \n",
       "4 USD              20000        HN                   0         \n",
       "5 USD             150000        US                  50         \n",
       "6 USD              72000        US                 100         \n",
       "  company_location company_size\n",
       "1 DE               L           \n",
       "2 JP               S           \n",
       "3 GB               M           \n",
       "4 HN               S           \n",
       "5 US               L           \n",
       "6 US               L           "
      ]
     },
     "metadata": {},
     "output_type": "display_data"
    }
   ],
   "source": [
    "# TODO- MAKE SURE WE ARE USING ALL OF THESE DEPENDENCIES AND IF NOT, DELETE THE UNNEEDED ONES\n",
    "library(tidyverse)\n",
    "library(broom)\n",
    "library(repr)\n",
    "library(digest)\n",
    "library(infer)\n",
    "library(gridExtra)\n",
    "\n",
    "salaries <- read.csv(\"ds_salaries.csv\") %>%\n",
    "    select(!X)\n",
    "\n",
    "# preview the data\n",
    "head(salaries)"
   ]
  },
  {
   "cell_type": "markdown",
   "id": "4742174a-cf42-4c5e-9002-f9d7405509f9",
   "metadata": {},
   "source": [
    "### Cleaning and Wrangling Data"
   ]
  },
  {
   "cell_type": "markdown",
   "id": "f4940caf-dcf7-42de-832c-118fa958be87",
   "metadata": {},
   "source": [
    "Since we are only comparing X, Y, Z, we can filter out the unnecessary observations. \n",
    "\n",
    "**TODO: Check and confirm with the group what the actual variables we are comparing are and if those variables are good**"
   ]
  },
  {
   "cell_type": "code",
   "execution_count": 4,
   "id": "66eb0474-80b6-4204-80f3-bf26ebacbf5a",
   "metadata": {},
   "outputs": [
    {
     "data": {
      "text/html": [
       "<table class=\"dataframe\">\n",
       "<caption>A tibble: 50 × 2</caption>\n",
       "<thead>\n",
       "\t<tr><th scope=col>job_title</th><th scope=col>n</th></tr>\n",
       "\t<tr><th scope=col>&lt;chr&gt;</th><th scope=col>&lt;int&gt;</th></tr>\n",
       "</thead>\n",
       "<tbody>\n",
       "\t<tr><td>3D Computer Vision Researcher           </td><td>  1</td></tr>\n",
       "\t<tr><td>AI Scientist                            </td><td>  7</td></tr>\n",
       "\t<tr><td>Analytics Engineer                      </td><td>  4</td></tr>\n",
       "\t<tr><td>Applied Data Scientist                  </td><td>  5</td></tr>\n",
       "\t<tr><td>Applied Machine Learning Scientist      </td><td>  4</td></tr>\n",
       "\t<tr><td>BI Data Analyst                         </td><td>  6</td></tr>\n",
       "\t<tr><td>Big Data Architect                      </td><td>  1</td></tr>\n",
       "\t<tr><td>Big Data Engineer                       </td><td>  8</td></tr>\n",
       "\t<tr><td>Business Data Analyst                   </td><td>  5</td></tr>\n",
       "\t<tr><td>Cloud Data Engineer                     </td><td>  2</td></tr>\n",
       "\t<tr><td>Computer Vision Engineer                </td><td>  6</td></tr>\n",
       "\t<tr><td>Computer Vision Software Engineer       </td><td>  3</td></tr>\n",
       "\t<tr><td>Data Analyst                            </td><td> 97</td></tr>\n",
       "\t<tr><td>Data Analytics Engineer                 </td><td>  4</td></tr>\n",
       "\t<tr><td>Data Analytics Lead                     </td><td>  1</td></tr>\n",
       "\t<tr><td>Data Analytics Manager                  </td><td>  7</td></tr>\n",
       "\t<tr><td>Data Architect                          </td><td> 11</td></tr>\n",
       "\t<tr><td>Data Engineer                           </td><td>132</td></tr>\n",
       "\t<tr><td>Data Engineering Manager                </td><td>  5</td></tr>\n",
       "\t<tr><td>Data Science Consultant                 </td><td>  7</td></tr>\n",
       "\t<tr><td>Data Science Engineer                   </td><td>  3</td></tr>\n",
       "\t<tr><td>Data Science Manager                    </td><td> 12</td></tr>\n",
       "\t<tr><td>Data Scientist                          </td><td>143</td></tr>\n",
       "\t<tr><td>Data Specialist                         </td><td>  1</td></tr>\n",
       "\t<tr><td>Director of Data Engineering            </td><td>  2</td></tr>\n",
       "\t<tr><td>Director of Data Science                </td><td>  7</td></tr>\n",
       "\t<tr><td>ETL Developer                           </td><td>  2</td></tr>\n",
       "\t<tr><td>Finance Data Analyst                    </td><td>  1</td></tr>\n",
       "\t<tr><td>Financial Data Analyst                  </td><td>  2</td></tr>\n",
       "\t<tr><td>Head of Data                            </td><td>  5</td></tr>\n",
       "\t<tr><td>Head of Data Science                    </td><td>  4</td></tr>\n",
       "\t<tr><td>Head of Machine Learning                </td><td>  1</td></tr>\n",
       "\t<tr><td>Lead Data Analyst                       </td><td>  3</td></tr>\n",
       "\t<tr><td>Lead Data Engineer                      </td><td>  6</td></tr>\n",
       "\t<tr><td>Lead Data Scientist                     </td><td>  3</td></tr>\n",
       "\t<tr><td>Lead Machine Learning Engineer          </td><td>  1</td></tr>\n",
       "\t<tr><td>Machine Learning Developer              </td><td>  3</td></tr>\n",
       "\t<tr><td>Machine Learning Engineer               </td><td> 41</td></tr>\n",
       "\t<tr><td>Machine Learning Infrastructure Engineer</td><td>  3</td></tr>\n",
       "\t<tr><td>Machine Learning Manager                </td><td>  1</td></tr>\n",
       "\t<tr><td>Machine Learning Scientist              </td><td>  8</td></tr>\n",
       "\t<tr><td>Marketing Data Analyst                  </td><td>  1</td></tr>\n",
       "\t<tr><td>ML Engineer                             </td><td>  6</td></tr>\n",
       "\t<tr><td>NLP Engineer                            </td><td>  1</td></tr>\n",
       "\t<tr><td>Principal Data Analyst                  </td><td>  2</td></tr>\n",
       "\t<tr><td>Principal Data Engineer                 </td><td>  3</td></tr>\n",
       "\t<tr><td>Principal Data Scientist                </td><td>  7</td></tr>\n",
       "\t<tr><td>Product Data Analyst                    </td><td>  2</td></tr>\n",
       "\t<tr><td>Research Scientist                      </td><td> 16</td></tr>\n",
       "\t<tr><td>Staff Data Scientist                    </td><td>  1</td></tr>\n",
       "</tbody>\n",
       "</table>\n"
      ],
      "text/latex": [
       "A tibble: 50 × 2\n",
       "\\begin{tabular}{ll}\n",
       " job\\_title & n\\\\\n",
       " <chr> & <int>\\\\\n",
       "\\hline\n",
       "\t 3D Computer Vision Researcher            &   1\\\\\n",
       "\t AI Scientist                             &   7\\\\\n",
       "\t Analytics Engineer                       &   4\\\\\n",
       "\t Applied Data Scientist                   &   5\\\\\n",
       "\t Applied Machine Learning Scientist       &   4\\\\\n",
       "\t BI Data Analyst                          &   6\\\\\n",
       "\t Big Data Architect                       &   1\\\\\n",
       "\t Big Data Engineer                        &   8\\\\\n",
       "\t Business Data Analyst                    &   5\\\\\n",
       "\t Cloud Data Engineer                      &   2\\\\\n",
       "\t Computer Vision Engineer                 &   6\\\\\n",
       "\t Computer Vision Software Engineer        &   3\\\\\n",
       "\t Data Analyst                             &  97\\\\\n",
       "\t Data Analytics Engineer                  &   4\\\\\n",
       "\t Data Analytics Lead                      &   1\\\\\n",
       "\t Data Analytics Manager                   &   7\\\\\n",
       "\t Data Architect                           &  11\\\\\n",
       "\t Data Engineer                            & 132\\\\\n",
       "\t Data Engineering Manager                 &   5\\\\\n",
       "\t Data Science Consultant                  &   7\\\\\n",
       "\t Data Science Engineer                    &   3\\\\\n",
       "\t Data Science Manager                     &  12\\\\\n",
       "\t Data Scientist                           & 143\\\\\n",
       "\t Data Specialist                          &   1\\\\\n",
       "\t Director of Data Engineering             &   2\\\\\n",
       "\t Director of Data Science                 &   7\\\\\n",
       "\t ETL Developer                            &   2\\\\\n",
       "\t Finance Data Analyst                     &   1\\\\\n",
       "\t Financial Data Analyst                   &   2\\\\\n",
       "\t Head of Data                             &   5\\\\\n",
       "\t Head of Data Science                     &   4\\\\\n",
       "\t Head of Machine Learning                 &   1\\\\\n",
       "\t Lead Data Analyst                        &   3\\\\\n",
       "\t Lead Data Engineer                       &   6\\\\\n",
       "\t Lead Data Scientist                      &   3\\\\\n",
       "\t Lead Machine Learning Engineer           &   1\\\\\n",
       "\t Machine Learning Developer               &   3\\\\\n",
       "\t Machine Learning Engineer                &  41\\\\\n",
       "\t Machine Learning Infrastructure Engineer &   3\\\\\n",
       "\t Machine Learning Manager                 &   1\\\\\n",
       "\t Machine Learning Scientist               &   8\\\\\n",
       "\t Marketing Data Analyst                   &   1\\\\\n",
       "\t ML Engineer                              &   6\\\\\n",
       "\t NLP Engineer                             &   1\\\\\n",
       "\t Principal Data Analyst                   &   2\\\\\n",
       "\t Principal Data Engineer                  &   3\\\\\n",
       "\t Principal Data Scientist                 &   7\\\\\n",
       "\t Product Data Analyst                     &   2\\\\\n",
       "\t Research Scientist                       &  16\\\\\n",
       "\t Staff Data Scientist                     &   1\\\\\n",
       "\\end{tabular}\n"
      ],
      "text/markdown": [
       "\n",
       "A tibble: 50 × 2\n",
       "\n",
       "| job_title &lt;chr&gt; | n &lt;int&gt; |\n",
       "|---|---|\n",
       "| 3D Computer Vision Researcher            |   1 |\n",
       "| AI Scientist                             |   7 |\n",
       "| Analytics Engineer                       |   4 |\n",
       "| Applied Data Scientist                   |   5 |\n",
       "| Applied Machine Learning Scientist       |   4 |\n",
       "| BI Data Analyst                          |   6 |\n",
       "| Big Data Architect                       |   1 |\n",
       "| Big Data Engineer                        |   8 |\n",
       "| Business Data Analyst                    |   5 |\n",
       "| Cloud Data Engineer                      |   2 |\n",
       "| Computer Vision Engineer                 |   6 |\n",
       "| Computer Vision Software Engineer        |   3 |\n",
       "| Data Analyst                             |  97 |\n",
       "| Data Analytics Engineer                  |   4 |\n",
       "| Data Analytics Lead                      |   1 |\n",
       "| Data Analytics Manager                   |   7 |\n",
       "| Data Architect                           |  11 |\n",
       "| Data Engineer                            | 132 |\n",
       "| Data Engineering Manager                 |   5 |\n",
       "| Data Science Consultant                  |   7 |\n",
       "| Data Science Engineer                    |   3 |\n",
       "| Data Science Manager                     |  12 |\n",
       "| Data Scientist                           | 143 |\n",
       "| Data Specialist                          |   1 |\n",
       "| Director of Data Engineering             |   2 |\n",
       "| Director of Data Science                 |   7 |\n",
       "| ETL Developer                            |   2 |\n",
       "| Finance Data Analyst                     |   1 |\n",
       "| Financial Data Analyst                   |   2 |\n",
       "| Head of Data                             |   5 |\n",
       "| Head of Data Science                     |   4 |\n",
       "| Head of Machine Learning                 |   1 |\n",
       "| Lead Data Analyst                        |   3 |\n",
       "| Lead Data Engineer                       |   6 |\n",
       "| Lead Data Scientist                      |   3 |\n",
       "| Lead Machine Learning Engineer           |   1 |\n",
       "| Machine Learning Developer               |   3 |\n",
       "| Machine Learning Engineer                |  41 |\n",
       "| Machine Learning Infrastructure Engineer |   3 |\n",
       "| Machine Learning Manager                 |   1 |\n",
       "| Machine Learning Scientist               |   8 |\n",
       "| Marketing Data Analyst                   |   1 |\n",
       "| ML Engineer                              |   6 |\n",
       "| NLP Engineer                             |   1 |\n",
       "| Principal Data Analyst                   |   2 |\n",
       "| Principal Data Engineer                  |   3 |\n",
       "| Principal Data Scientist                 |   7 |\n",
       "| Product Data Analyst                     |   2 |\n",
       "| Research Scientist                       |  16 |\n",
       "| Staff Data Scientist                     |   1 |\n",
       "\n"
      ],
      "text/plain": [
       "   job_title                                n  \n",
       "1  3D Computer Vision Researcher              1\n",
       "2  AI Scientist                               7\n",
       "3  Analytics Engineer                         4\n",
       "4  Applied Data Scientist                     5\n",
       "5  Applied Machine Learning Scientist         4\n",
       "6  BI Data Analyst                            6\n",
       "7  Big Data Architect                         1\n",
       "8  Big Data Engineer                          8\n",
       "9  Business Data Analyst                      5\n",
       "10 Cloud Data Engineer                        2\n",
       "11 Computer Vision Engineer                   6\n",
       "12 Computer Vision Software Engineer          3\n",
       "13 Data Analyst                              97\n",
       "14 Data Analytics Engineer                    4\n",
       "15 Data Analytics Lead                        1\n",
       "16 Data Analytics Manager                     7\n",
       "17 Data Architect                            11\n",
       "18 Data Engineer                            132\n",
       "19 Data Engineering Manager                   5\n",
       "20 Data Science Consultant                    7\n",
       "21 Data Science Engineer                      3\n",
       "22 Data Science Manager                      12\n",
       "23 Data Scientist                           143\n",
       "24 Data Specialist                            1\n",
       "25 Director of Data Engineering               2\n",
       "26 Director of Data Science                   7\n",
       "27 ETL Developer                              2\n",
       "28 Finance Data Analyst                       1\n",
       "29 Financial Data Analyst                     2\n",
       "30 Head of Data                               5\n",
       "31 Head of Data Science                       4\n",
       "32 Head of Machine Learning                   1\n",
       "33 Lead Data Analyst                          3\n",
       "34 Lead Data Engineer                         6\n",
       "35 Lead Data Scientist                        3\n",
       "36 Lead Machine Learning Engineer             1\n",
       "37 Machine Learning Developer                 3\n",
       "38 Machine Learning Engineer                 41\n",
       "39 Machine Learning Infrastructure Engineer   3\n",
       "40 Machine Learning Manager                   1\n",
       "41 Machine Learning Scientist                 8\n",
       "42 Marketing Data Analyst                     1\n",
       "43 ML Engineer                                6\n",
       "44 NLP Engineer                               1\n",
       "45 Principal Data Analyst                     2\n",
       "46 Principal Data Engineer                    3\n",
       "47 Principal Data Scientist                   7\n",
       "48 Product Data Analyst                       2\n",
       "49 Research Scientist                        16\n",
       "50 Staff Data Scientist                       1"
      ]
     },
     "metadata": {},
     "output_type": "display_data"
    }
   ],
   "source": [
    "# TODO - Change back from Temp code this is currently set to\n",
    "data_scientist_salaries <- salaries %>%\n",
    "    group_by(job_title) %>%\n",
    "    summarize(n = n())\n",
    "\n",
    "(data_scientist_salaries)"
   ]
  },
  {
   "cell_type": "markdown",
   "id": "092e4c09-1c19-4628-b22e-30f6dfc3f6d9",
   "metadata": {},
   "source": [
    "### Plots"
   ]
  },
  {
   "cell_type": "markdown",
   "id": "e1be2e36-ed57-4569-b2cf-5d524cfa3852",
   "metadata": {},
   "source": [
    "TODO: Discuss what we can do for plots. We should try to think of something interesting that can be related to the hypothesis testing"
   ]
  },
  {
   "cell_type": "markdown",
   "id": "83d9bed9-fa9b-4e5c-89f1-ec93197162bc",
   "metadata": {},
   "source": [
    "### Estimates"
   ]
  },
  {
   "cell_type": "markdown",
   "id": "0ab5a2cc-4ad3-44ce-b9de-f91bd2262ab0",
   "metadata": {},
   "source": [
    "## Methods: Plan"
   ]
  },
  {
   "cell_type": "markdown",
   "id": "ebfda908-7298-4be0-87f9-8c37014cf728",
   "metadata": {},
   "source": [
    "### Expected Outcomes and Significance"
   ]
  },
  {
   "cell_type": "markdown",
   "id": "3a88c59d-cf58-4a3b-b9ef-4da06b85df5b",
   "metadata": {},
   "source": [
    "### Future"
   ]
  },
  {
   "cell_type": "markdown",
   "id": "de9633f9-56a4-4435-bba2-bcf7c49c6f38",
   "metadata": {},
   "source": [
    "With the observations we are analyzing and comparing, we are only scratching the surface of all that there is to be examined. The possibilities are endless. For example, another question worth answering with this same dataset is how does remote ratio affect salary? \n",
    "\n",
    "We hope further research can be conducted comparing different variables further along with assessment on how salary impacts wellbeing and job satisfaction for both parties (the employer and employee) and along multiple industries."
   ]
  },
  {
   "cell_type": "markdown",
   "id": "cc2e04a8-8ad3-45d9-b610-49499dfaea01",
   "metadata": {},
   "source": [
    "## References"
   ]
  },
  {
   "cell_type": "markdown",
   "id": "f07bbdd4-eeed-45d5-9293-fc515518bcc3",
   "metadata": {},
   "source": [
    "Card, D., Mas, A., Moretti, E., & Saez, E. (2012). Inequality at Work: The Effect of Peer Salaries on Job Satisfaction. American Economic Review, 102(6), 2981–3003. https://doi.org/10.1257/aer.102.6.2981\n",
    "\n",
    "Lee, Y., & Sabharwal, M. (2014). Education–Job Match, Salary, and Job Satisfaction Across the Public,, Non-Profit, and For-Profit Sectors: Survey of recent college graduates. Public Management Review, 18(1), 40–64. https://doi.org/10.1080/14719037.2014.957342"
   ]
  },
  {
   "cell_type": "code",
   "execution_count": null,
   "id": "e28b96e0-327d-4c84-82d9-a3a763bb019b",
   "metadata": {},
   "outputs": [],
   "source": []
  }
 ],
 "metadata": {
  "kernelspec": {
   "display_name": "R",
   "language": "R",
   "name": "ir"
  },
  "language_info": {
   "codemirror_mode": "r",
   "file_extension": ".r",
   "mimetype": "text/x-r-source",
   "name": "R",
   "pygments_lexer": "r",
   "version": "4.1.3"
  }
 },
 "nbformat": 4,
 "nbformat_minor": 5
}
